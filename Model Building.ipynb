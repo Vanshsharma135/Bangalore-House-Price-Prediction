{
 "cells": [
  {
   "cell_type": "markdown",
   "metadata": {
    "colab_type": "text",
    "id": "axowdsatcJaQ"
   },
   "source": [
    "## Split Dataset in train and test"
   ]
  },
  {
   "cell_type": "code",
   "execution_count": 1,
   "metadata": {},
   "outputs": [],
   "source": [
    "import numpy as np\n",
    "import pandas as pd\n",
    "import matplotlib.pyplot as plt\n",
    "import seaborn as sns"
   ]
  },
  {
   "cell_type": "code",
   "execution_count": 2,
   "metadata": {},
   "outputs": [],
   "source": [
    "df = pd.read_csv(\"Desktop/ohe_data_reduce_cat_class.csv\")"
   ]
  },
  {
   "cell_type": "code",
   "execution_count": 3,
   "metadata": {
    "colab": {
     "base_uri": "https://localhost:8080/",
     "height": 51
    },
    "colab_type": "code",
    "executionInfo": {
     "elapsed": 3736,
     "status": "ok",
     "timestamp": 1593078489656,
     "user": {
      "displayName": "indian ai production",
      "photoUrl": "",
      "userId": "05336710603640792650"
     },
     "user_tz": -330
    },
    "id": "PU_DeM90b7As",
    "outputId": "bab4699a-6418-4af5-bfbe-69424bb17b8b"
   },
   "outputs": [
    {
     "name": "stdout",
     "output_type": "stream",
     "text": [
      "Shape of X =  (7120, 107)\n",
      "Shape of y =  (7120,)\n"
     ]
    }
   ],
   "source": [
    "X = df.drop(\"price\", axis=1)\n",
    "y = df['price']\n",
    "print('Shape of X = ', X.shape)\n",
    "print('Shape of y = ', y.shape)"
   ]
  },
  {
   "cell_type": "code",
   "execution_count": 4,
   "metadata": {
    "colab": {
     "base_uri": "https://localhost:8080/",
     "height": 85
    },
    "colab_type": "code",
    "executionInfo": {
     "elapsed": 3693,
     "status": "ok",
     "timestamp": 1593078489657,
     "user": {
      "displayName": "indian ai production",
      "photoUrl": "",
      "userId": "05336710603640792650"
     },
     "user_tz": -330
    },
    "id": "aNVLPL-rcNwa",
    "outputId": "b24989dd-d514-407f-eae1-4f982084621a"
   },
   "outputs": [
    {
     "name": "stdout",
     "output_type": "stream",
     "text": [
      "Shape of X_train =  (5696, 107)\n",
      "Shape of y_train =  (5696,)\n",
      "Shape of X_test =  (1424, 107)\n",
      "Shape of y_test =  (1424,)\n"
     ]
    }
   ],
   "source": [
    "from sklearn.model_selection import train_test_split\n",
    "X_train, X_test, y_train, y_test = train_test_split(X, y, test_size = 0.2, random_state = 51)\n",
    "print('Shape of X_train = ', X_train.shape)\n",
    "print('Shape of y_train = ', y_train.shape)\n",
    "print('Shape of X_test = ', X_test.shape)\n",
    "print('Shape of y_test = ', y_test.shape)"
   ]
  },
  {
   "cell_type": "markdown",
   "metadata": {
    "colab_type": "text",
    "id": "k65LC4_qcYpm"
   },
   "source": [
    "## Feature Scaling"
   ]
  },
  {
   "cell_type": "code",
   "execution_count": 5,
   "metadata": {
    "colab": {},
    "colab_type": "code",
    "executionInfo": {
     "elapsed": 4112,
     "status": "ok",
     "timestamp": 1593078490090,
     "user": {
      "displayName": "indian ai production",
      "photoUrl": "",
      "userId": "05336710603640792650"
     },
     "user_tz": -330
    },
    "id": "D1BCc8gAcUi6"
   },
   "outputs": [],
   "source": [
    "from sklearn.preprocessing import StandardScaler\n",
    "sc = StandardScaler()\n",
    "sc.fit(X_train)\n",
    "X_train= sc.transform(X_train)\n",
    "X_test = sc.transform(X_test)"
   ]
  },
  {
   "cell_type": "markdown",
   "metadata": {
    "colab_type": "text",
    "id": "Oh43OeUnfZAq"
   },
   "source": [
    "## Machine Learning Model Training"
   ]
  },
  {
   "cell_type": "markdown",
   "metadata": {
    "colab_type": "text",
    "id": "d9-YKvESfcmd"
   },
   "source": [
    "## Linear Regression"
   ]
  },
  {
   "cell_type": "code",
   "execution_count": 6,
   "metadata": {
    "colab": {},
    "colab_type": "code",
    "executionInfo": {
     "elapsed": 4105,
     "status": "ok",
     "timestamp": 1593078490092,
     "user": {
      "displayName": "indian ai production",
      "photoUrl": "",
      "userId": "05336710603640792650"
     },
     "user_tz": -330
    },
    "id": "GfPL9vJLcfXr"
   },
   "outputs": [],
   "source": [
    "from sklearn.linear_model import LinearRegression\n",
    "from sklearn.linear_model import Lasso\n",
    "from sklearn.linear_model import Ridge\n",
    "from sklearn.metrics import mean_squared_error\n",
    "lr = LinearRegression()\n",
    "lr_lasso = Lasso()\n",
    "lr_ridge = Ridge()"
   ]
  },
  {
   "cell_type": "code",
   "execution_count": 7,
   "metadata": {
    "colab": {},
    "colab_type": "code",
    "executionInfo": {
     "elapsed": 4100,
     "status": "ok",
     "timestamp": 1593078490094,
     "user": {
      "displayName": "indian ai production",
      "photoUrl": "",
      "userId": "05336710603640792650"
     },
     "user_tz": -330
    },
    "id": "pG9byhg5YWGR"
   },
   "outputs": [],
   "source": [
    "def rmse(y_test, y_pred):\n",
    "  return np.sqrt(mean_squared_error(y_test, y_pred))"
   ]
  },
  {
   "cell_type": "code",
   "execution_count": 8,
   "metadata": {
    "colab": {
     "base_uri": "https://localhost:8080/",
     "height": 34
    },
    "colab_type": "code",
    "executionInfo": {
     "elapsed": 4027,
     "status": "ok",
     "timestamp": 1593078490095,
     "user": {
      "displayName": "indian ai production",
      "photoUrl": "",
      "userId": "05336710603640792650"
     },
     "user_tz": -330
    },
    "id": "WYm8ArSoff1p",
    "outputId": "b315cac3-9809-467c-87f6-fb54f1e5918c"
   },
   "outputs": [
    {
     "data": {
      "text/plain": [
       "(0.7903837092682239, 64.89843531105626)"
      ]
     },
     "execution_count": 8,
     "metadata": {},
     "output_type": "execute_result"
    }
   ],
   "source": [
    "lr.fit(X_train, y_train)\n",
    "lr_score = lr.score(X_test, y_test) # with all num var 0.7842744111909903\n",
    "lr_rmse = rmse(y_test, lr.predict(X_test))\n",
    "lr_score, lr_rmse"
   ]
  },
  {
   "cell_type": "code",
   "execution_count": 9,
   "metadata": {
    "colab": {
     "base_uri": "https://localhost:8080/",
     "height": 34
    },
    "colab_type": "code",
    "executionInfo": {
     "elapsed": 3988,
     "status": "ok",
     "timestamp": 1593078490096,
     "user": {
      "displayName": "indian ai production",
      "photoUrl": "",
      "userId": "05336710603640792650"
     },
     "user_tz": -330
    },
    "id": "sEhTsgE6fnXp",
    "outputId": "6170272d-4954-4045-e93f-49339b531559"
   },
   "outputs": [
    {
     "data": {
      "text/plain": [
       "(0.8036372974838808, 62.81324218603775)"
      ]
     },
     "execution_count": 9,
     "metadata": {},
     "output_type": "execute_result"
    }
   ],
   "source": [
    "# Lasso \n",
    "lr_lasso.fit(X_train, y_train)\n",
    "lr_lasso_score=lr_lasso.score(X_test, y_test) # with balcony 0.5162364637824872\n",
    "lr_lasso_rmse = rmse(y_test, lr_lasso.predict(X_test))\n",
    "lr_lasso_score, lr_lasso_rmse"
   ]
  },
  {
   "cell_type": "markdown",
   "metadata": {
    "colab_type": "text",
    "id": "73sB16uxfwRm"
   },
   "source": [
    "## Support Vector Machine"
   ]
  },
  {
   "cell_type": "code",
   "execution_count": 10,
   "metadata": {
    "colab": {
     "base_uri": "https://localhost:8080/",
     "height": 34
    },
    "colab_type": "code",
    "executionInfo": {
     "elapsed": 15003,
     "status": "ok",
     "timestamp": 1593078501154,
     "user": {
      "displayName": "indian ai production",
      "photoUrl": "",
      "userId": "05336710603640792650"
     },
     "user_tz": -330
    },
    "id": "aep38HxxfsbA",
    "outputId": "ecb5b52f-8743-46a6-ecfb-b69cd5e9d06f"
   },
   "outputs": [
    {
     "data": {
      "text/plain": [
       "(0.20638035840828184, 126.27806378079053)"
      ]
     },
     "execution_count": 10,
     "metadata": {},
     "output_type": "execute_result"
    }
   ],
   "source": [
    "from sklearn.svm import SVR\n",
    "svr = SVR()\n",
    "svr.fit(X_train,y_train)\n",
    "svr_score=svr.score(X_test,y_test) # with 0.2630802200711362\n",
    "svr_rmse = rmse(y_test, svr.predict(X_test))\n",
    "svr_score, svr_rmse"
   ]
  },
  {
   "cell_type": "markdown",
   "metadata": {
    "colab_type": "text",
    "id": "w9-nexcsf5G3"
   },
   "source": [
    "## Random Forest Regressor"
   ]
  },
  {
   "cell_type": "code",
   "execution_count": 11,
   "metadata": {
    "colab": {
     "base_uri": "https://localhost:8080/",
     "height": 34
    },
    "colab_type": "code",
    "executionInfo": {
     "elapsed": 18171,
     "status": "ok",
     "timestamp": 1593078504362,
     "user": {
      "displayName": "indian ai production",
      "photoUrl": "",
      "userId": "05336710603640792650"
     },
     "user_tz": -330
    },
    "id": "ArlNrxFJf1ey",
    "outputId": "90487329-8ad6-4625-a01e-f915975ba241"
   },
   "outputs": [
    {
     "data": {
      "text/plain": [
       "(0.8948139918445156, 45.97277266062153)"
      ]
     },
     "execution_count": 11,
     "metadata": {},
     "output_type": "execute_result"
    }
   ],
   "source": [
    "from sklearn.ensemble import RandomForestRegressor\n",
    "rfr = RandomForestRegressor()\n",
    "rfr.fit(X_train,y_train)\n",
    "rfr_score=rfr.score(X_test,y_test) # with 0.8863376025408044\n",
    "rfr_rmse = rmse(y_test, rfr.predict(X_test))\n",
    "rfr_score, rfr_rmse"
   ]
  },
  {
   "cell_type": "markdown",
   "metadata": {
    "colab_type": "text",
    "id": "JjxIDyROgFj4"
   },
   "source": [
    "## XGBoost"
   ]
  },
  {
   "cell_type": "code",
   "execution_count": 12,
   "metadata": {
    "colab": {
     "base_uri": "https://localhost:8080/",
     "height": 51
    },
    "colab_type": "code",
    "executionInfo": {
     "elapsed": 19264,
     "status": "ok",
     "timestamp": 1593078505494,
     "user": {
      "displayName": "indian ai production",
      "photoUrl": "",
      "userId": "05336710603640792650"
     },
     "user_tz": -330
    },
    "id": "GefSOPbqf-4d",
    "outputId": "6f6f8cfe-28fa-452e-aebb-468109b3944c"
   },
   "outputs": [
    {
     "data": {
      "text/plain": [
       "(0.8866071985706575, 47.73252984729787)"
      ]
     },
     "execution_count": 12,
     "metadata": {},
     "output_type": "execute_result"
    }
   ],
   "source": [
    "import xgboost\n",
    "xgb_reg = xgboost.XGBRegressor()\n",
    "xgb_reg.fit(X_train,y_train)\n",
    "xgb_reg_score=xgb_reg.score(X_test,y_test) # with 0.8838865742273464\n",
    "xgb_reg_rmse = rmse(y_test, xgb_reg.predict(X_test))\n",
    "xgb_reg_score, xgb_reg_rmse"
   ]
  },
  {
   "cell_type": "code",
   "execution_count": 13,
   "metadata": {
    "colab": {
     "base_uri": "https://localhost:8080/",
     "height": 119
    },
    "colab_type": "code",
    "executionInfo": {
     "elapsed": 19225,
     "status": "ok",
     "timestamp": 1593078505496,
     "user": {
      "displayName": "indian ai production",
      "photoUrl": "",
      "userId": "05336710603640792650"
     },
     "user_tz": -330
    },
    "id": "SjqSFnK4atAI",
    "outputId": "dcf267cc-98f4-426b-d51d-f2e9d7e324c4"
   },
   "outputs": [
    {
     "name": "stdout",
     "output_type": "stream",
     "text": [
      "                    Model     Score        RMSE\n",
      "0       Linear Regression  0.790384   64.898435\n",
      "1                   Lasso  0.803637   62.813242\n",
      "2  Support Vector Machine  0.206380  126.278064\n",
      "3           Random Forest  0.894814   45.972773\n",
      "4                 XGBoost  0.886607   47.732530\n"
     ]
    }
   ],
   "source": [
    "print(pd.DataFrame([{'Model': 'Linear Regression','Score':lr_score, \"RMSE\":lr_rmse},\n",
    "              {'Model': 'Lasso','Score':lr_lasso_score, \"RMSE\":lr_lasso_rmse},\n",
    "              {'Model': 'Support Vector Machine','Score':svr_score, \"RMSE\":svr_rmse},\n",
    "              {'Model': 'Random Forest','Score':rfr_score, \"RMSE\":rfr_rmse},\n",
    "              {'Model': 'XGBoost','Score':xgb_reg_score, \"RMSE\":xgb_reg_rmse}],\n",
    "             columns=['Model','Score','RMSE']))"
   ]
  },
  {
   "cell_type": "markdown",
   "metadata": {
    "colab_type": "text",
    "id": "wb6hBVBvgSP4"
   },
   "source": [
    "## Cross Validation"
   ]
  },
  {
   "cell_type": "code",
   "execution_count": 14,
   "metadata": {
    "colab": {
     "base_uri": "https://localhost:8080/",
     "height": 34
    },
    "colab_type": "code",
    "executionInfo": {
     "elapsed": 19189,
     "status": "ok",
     "timestamp": 1593078505498,
     "user": {
      "displayName": "indian ai production",
      "photoUrl": "",
      "userId": "05336710603640792650"
     },
     "user_tz": -330
    },
    "id": "9X2-jzL8gJJJ",
    "outputId": "517a17f1-4b0d-45c6-fffa-cc4c94988cd4"
   },
   "outputs": [
    {
     "data": {
      "text/plain": [
       "(array([0.98991766, 0.98632505, 0.99685279, 0.98296558, 0.97656955,\n",
       "        0.99525125, 0.97360094, 0.94556716, 0.99408487, 0.98854857]),\n",
       " 0.9829683423733027)"
      ]
     },
     "execution_count": 14,
     "metadata": {},
     "output_type": "execute_result"
    }
   ],
   "source": [
    "from sklearn.model_selection import KFold,cross_val_score\n",
    "cvs = cross_val_score(xgb_reg, X_train,y_train, cv = 10)\n",
    "cvs, cvs.mean() # 0.9845963377450353)"
   ]
  },
  {
   "cell_type": "code",
   "execution_count": 15,
   "metadata": {
    "colab": {
     "base_uri": "https://localhost:8080/",
     "height": 34
    },
    "colab_type": "code",
    "executionInfo": {
     "elapsed": 19157,
     "status": "ok",
     "timestamp": 1593078505499,
     "user": {
      "displayName": "indian ai production",
      "photoUrl": "",
      "userId": "05336710603640792650"
     },
     "user_tz": -330
    },
    "id": "3SRukRf9gWc3",
    "outputId": "f32a045f-04ef-4c2e-ccd2-2dc6aa931b36"
   },
   "outputs": [
    {
     "data": {
      "text/plain": [
       "(array([0.9907451 , 0.94540606, 0.99692643, 0.97439965, 0.95752134,\n",
       "        0.91750097, 0.9328798 , 0.91288345, 0.99612252, 0.98796445]),\n",
       " 0.9612349757823042)"
      ]
     },
     "execution_count": 15,
     "metadata": {},
     "output_type": "execute_result"
    }
   ],
   "source": [
    "cvs_rfr = cross_val_score(rfr, X_train,y_train, cv = 10)\n",
    "cvs_rfr, cvs_rfr.mean() # 0.9652425691235843)"
   ]
  },
  {
   "cell_type": "markdown",
   "metadata": {
    "colab_type": "text",
    "id": "HMfJzdNkimif"
   },
   "source": [
    "## Random Forest has the Highest Accuracy , Lowest RMSE and Differnece btw cross validation score is also less(as compared to others )\n"
   ]
  },
  {
   "cell_type": "markdown",
   "metadata": {},
   "source": [
    "We could have used Hyperparametic Tuning for better accuray but it is little advance topic(I dont know very well)  , time taking and need  more computational Power.\n",
    "So avoiding it here for easy understanding ."
   ]
  },
  {
   "cell_type": "markdown",
   "metadata": {
    "colab_type": "text",
    "id": "oC0mBkarKUzw"
   },
   "source": [
    "# Save model & load model"
   ]
  },
  {
   "cell_type": "code",
   "execution_count": 22,
   "metadata": {
    "colab": {
     "base_uri": "https://localhost:8080/",
     "height": 34
    },
    "colab_type": "code",
    "executionInfo": {
     "elapsed": 1014,
     "status": "ok",
     "timestamp": 1593079039699,
     "user": {
      "displayName": "indian ai production",
      "photoUrl": "",
      "userId": "05336710603640792650"
     },
     "user_tz": -330
    },
    "id": "0FepBAKJHHuf",
    "outputId": "780ec6c9-2652-414e-ad32-ba887248ed26"
   },
   "outputs": [
    {
     "data": {
      "text/plain": [
       "['bangalore_house_price_prediction_rfr_model.pkl']"
      ]
     },
     "execution_count": 22,
     "metadata": {},
     "output_type": "execute_result"
    }
   ],
   "source": [
    "import joblib\n",
    "# save model\n",
    "joblib.dump(rfr, 'bangalore_house_price_prediction_rfr_model.pkl')"
   ]
  },
  {
   "cell_type": "code",
   "execution_count": 23,
   "metadata": {
    "colab": {
     "base_uri": "https://localhost:8080/",
     "height": 34
    },
    "colab_type": "code",
    "executionInfo": {
     "elapsed": 59992,
     "status": "ok",
     "timestamp": 1593078546870,
     "user": {
      "displayName": "indian ai production",
      "photoUrl": "",
      "userId": "05336710603640792650"
     },
     "user_tz": -330
    },
    "id": "y9pzeYYLKm6E",
    "outputId": "7e1c2640-ac7b-406b-eadc-d1c0c32c3a91"
   },
   "outputs": [],
   "source": [
    "# load model\n",
    "bangalore_house_price_prediction_model = joblib.load(\"bangalore_house_price_prediction_rfr_model.pkl\")"
   ]
  },
  {
   "cell_type": "code",
   "execution_count": null,
   "metadata": {},
   "outputs": [],
   "source": []
  }
 ],
 "metadata": {
  "colab": {
   "authorship_tag": "ABX9TyOIYud2QNDIWB2Xh7v9T1ww",
   "collapsed_sections": [
    "Oh43OeUnfZAq"
   ],
   "mount_file_id": "1IRlN0K3-yqqkzos3SUKgVyiHjJOBxQtG",
   "name": "Copy of ML2 Model-bangalore_house_price_prediction.ipynb",
   "provenance": []
  },
  "kernelspec": {
   "display_name": "Python 3",
   "language": "python",
   "name": "python3"
  },
  "language_info": {
   "codemirror_mode": {
    "name": "ipython",
    "version": 3
   },
   "file_extension": ".py",
   "mimetype": "text/x-python",
   "name": "python",
   "nbconvert_exporter": "python",
   "pygments_lexer": "ipython3",
   "version": "3.8.8"
  }
 },
 "nbformat": 4,
 "nbformat_minor": 1
}
